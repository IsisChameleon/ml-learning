{
 "cells": [
  {
   "cell_type": "code",
   "execution_count": 2,
   "metadata": {},
   "outputs": [],
   "source": [
    "import logging\n",
    "import sys\n",
    "import requests\n",
    "import json\n",
    "\n",
    "logging.basicConfig(stream=sys.stdout, level=logging.INFO)\n",
    "logging.getLogger().addHandler(logging.StreamHandler(stream=sys.stdout))\n",
    "\n",
    "from IPython.display import Markdown, display\n",
    "\n",
    "from dotenv import load_dotenv\n",
    "\n",
    "load_dotenv('/workspaces/ml-learning/.env', override=True)\n",
    "\n",
    "import nest_asyncio\n",
    "nest_asyncio.apply()\n",
    "\n",
    "%load_ext autoreload\n",
    "%autoreload 2"
   ]
  },
  {
   "cell_type": "code",
   "execution_count": 10,
   "metadata": {},
   "outputs": [],
   "source": [
    "import os\n",
    "apikey = os.environ.get('CORE_API_KEY')"
   ]
  },
  {
   "cell_type": "code",
   "execution_count": 7,
   "metadata": {},
   "outputs": [],
   "source": [
    "apikey"
   ]
  },
  {
   "cell_type": "code",
   "execution_count": 11,
   "metadata": {},
   "outputs": [],
   "source": [
    "def query_api(search_url, query, scrollId=None):\n",
    "    headers={\"Authorization\": f\"Bearer {apikey}\"}\n",
    "    if not scrollId:\n",
    "        response = requests.get(f\"{search_url}?q={query}&limit=100&scroll=true\",headers=headers)\n",
    "    else:\n",
    "        response = requests.get(f\"{search_url}?q={query}&limit=100&scrollId={scrollId}\",headers=headers)\n",
    "    print(response.content)        \n",
    "    return response.json(), response.elapsed.total_seconds()\n",
    "\n",
    "def scroll(search_url, query):\n",
    "    allresults = []\n",
    "    count = 0\n",
    "    scrollId=None\n",
    "    while True:\n",
    "        result, elapsed =query_api(search_url, query, scrollId)\n",
    "        scrollId=result[\"scrollId\"]\n",
    "        totalhits = result[\"totalHits\"]\n",
    "        result_size = len(result[\"results\"])\n",
    "        if result_size==0:\n",
    "            break\n",
    "        for hit in result[\"results\"]:\n",
    "            allresults.append(extract_info(hit))\n",
    "        count+=result_size\n",
    "        print(f\"{count}/{totalhits} {elapsed}s\")\n",
    "    return allresults\n",
    "        \n",
    "def extract_info(hit):\n",
    "    return {\"id\":hit[\"id\"], \"name\": hit[\"name\"], \"url\":hit[\"oaiPmhUrl\"]}"
   ]
  },
  {
   "cell_type": "code",
   "execution_count": 12,
   "metadata": {},
   "outputs": [
    {
     "name": "stdout",
     "output_type": "stream",
     "text": [
      "b'{\"message\":\"The API key you provided is not valid.\"}'\n"
     ]
    },
    {
     "ename": "KeyError",
     "evalue": "'scrollId'",
     "output_type": "error",
     "traceback": [
      "\u001b[0;31m---------------------------------------------------------------------------\u001b[0m",
      "\u001b[0;31mKeyError\u001b[0m                                  Traceback (most recent call last)",
      "Cell \u001b[0;32mIn[12], line 1\u001b[0m\n\u001b[0;32m----> 1\u001b[0m results \u001b[38;5;241m=\u001b[39m \u001b[43mscroll\u001b[49m\u001b[43m(\u001b[49m\u001b[38;5;124;43m\"\u001b[39;49m\u001b[38;5;124;43mhttps://api.core.ac.uk/v3/search/data-providers\u001b[39;49m\u001b[38;5;124;43m\"\u001b[39;49m\u001b[43m,\u001b[49m\u001b[43m \u001b[49m\u001b[38;5;124;43m\"\u001b[39;49m\u001b[38;5;124;43mtype:JOURNAL\u001b[39;49m\u001b[38;5;124;43m\"\u001b[39;49m\u001b[43m)\u001b[49m\n\u001b[1;32m      3\u001b[0m results\n",
      "Cell \u001b[0;32mIn[11], line 16\u001b[0m, in \u001b[0;36mscroll\u001b[0;34m(search_url, query)\u001b[0m\n\u001b[1;32m     14\u001b[0m \u001b[38;5;28;01mwhile\u001b[39;00m \u001b[38;5;28;01mTrue\u001b[39;00m:\n\u001b[1;32m     15\u001b[0m     result, elapsed \u001b[38;5;241m=\u001b[39mquery_api(search_url, query, scrollId)\n\u001b[0;32m---> 16\u001b[0m     scrollId\u001b[38;5;241m=\u001b[39m\u001b[43mresult\u001b[49m\u001b[43m[\u001b[49m\u001b[38;5;124;43m\"\u001b[39;49m\u001b[38;5;124;43mscrollId\u001b[39;49m\u001b[38;5;124;43m\"\u001b[39;49m\u001b[43m]\u001b[49m\n\u001b[1;32m     17\u001b[0m     totalhits \u001b[38;5;241m=\u001b[39m result[\u001b[38;5;124m\"\u001b[39m\u001b[38;5;124mtotalHits\u001b[39m\u001b[38;5;124m\"\u001b[39m]\n\u001b[1;32m     18\u001b[0m     result_size \u001b[38;5;241m=\u001b[39m \u001b[38;5;28mlen\u001b[39m(result[\u001b[38;5;124m\"\u001b[39m\u001b[38;5;124mresults\u001b[39m\u001b[38;5;124m\"\u001b[39m])\n",
      "\u001b[0;31mKeyError\u001b[0m: 'scrollId'"
     ]
    }
   ],
   "source": [
    "results = scroll(\"https://api.core.ac.uk/v3/search/data-providers\", \"type:JOURNAL\")\n",
    "\n",
    "results"
   ]
  },
  {
   "cell_type": "code",
   "execution_count": null,
   "metadata": {},
   "outputs": [],
   "source": [
    "\n",
    "def search_core_api(query):\n",
    "    # CORE API endpoint for search\n",
    "    url = \"https://core.ac.uk:443/api-v2/articles/search\"\n",
    "\n",
    "    # Parameters for the API request\n",
    "    params = {\n",
    "        \"apiKey\": \"YOUR_API_KEY\",  # Replace with your CORE API key\n",
    "        \"title\": query,\n",
    "        \"page\": 1,\n",
    "        \"pageSize\": 10  # Number of results to return\n",
    "    }\n",
    "\n",
    "    # Making the GET request\n",
    "    response = requests.get(url, params=params)\n",
    "\n",
    "    # Check if the request was successful\n",
    "    if response.status_code == 200:\n",
    "        return response.json()\n",
    "    else:\n",
    "        return f\"Error: {response.status_code}\"\n",
    "\n",
    "# Example search\n",
    "results = search_core_api(\"A. salmonicida subsp. masoucida\")\n",
    "print(json.dumps(results, indent=4))"
   ]
  }
 ],
 "metadata": {
  "kernelspec": {
   "display_name": ".venv",
   "language": "python",
   "name": "python3"
  },
  "language_info": {
   "codemirror_mode": {
    "name": "ipython",
    "version": 3
   },
   "file_extension": ".py",
   "mimetype": "text/x-python",
   "name": "python",
   "nbconvert_exporter": "python",
   "pygments_lexer": "ipython3",
   "version": "3.11.4"
  }
 },
 "nbformat": 4,
 "nbformat_minor": 2
}
