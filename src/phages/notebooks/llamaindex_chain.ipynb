{
 "cells": [
  {
   "cell_type": "markdown",
   "metadata": {},
   "source": [
    "# Simple llm call with llamaindex"
   ]
  },
  {
   "cell_type": "code",
   "execution_count": 2,
   "metadata": {},
   "outputs": [],
   "source": [
    "import logging\n",
    "import sys\n",
    "\n",
    "logging.basicConfig(stream=sys.stdout, level=logging.DEBUG)\n",
    "logging.getLogger().addHandler(logging.StreamHandler(stream=sys.stdout))"
   ]
  },
  {
   "cell_type": "code",
   "execution_count": 3,
   "metadata": {},
   "outputs": [],
   "source": [
    "from IPython.display import Markdown, display"
   ]
  },
  {
   "cell_type": "code",
   "execution_count": 4,
   "metadata": {},
   "outputs": [
    {
     "data": {
      "text/plain": [
       "True"
      ]
     },
     "execution_count": 4,
     "metadata": {},
     "output_type": "execute_result"
    }
   ],
   "source": [
    "from dotenv import load_dotenv\n",
    "\n",
    "load_dotenv('/workspaces/ml-learning/.env', override=True)"
   ]
  },
  {
   "cell_type": "code",
   "execution_count": 5,
   "metadata": {},
   "outputs": [],
   "source": [
    "from llama_index.llms import OpenAI\n",
    "from llama_index import (\n",
    "    ServiceContext,\n",
    "    OpenAIEmbedding,\n",
    "    PromptHelper,\n",
    ")\n",
    "prompt_helper = PromptHelper(\n",
    "    context_window=4096,\n",
    "    num_output=256,\n",
    "    chunk_overlap_ratio=0.1,\n",
    "    chunk_size_limit=None,\n",
    ")\n",
    "\n",
    "llm = OpenAI(model=\"gpt-3.5-turbo\", temperature=0, max_tokens=256)"
   ]
  },
  {
   "cell_type": "code",
   "execution_count": 8,
   "metadata": {},
   "outputs": [],
   "source": [
    "text = \"\"\"\n",
    "Proc. Natl. Acad. Sci. USA\n",
    "Vol. 80, pp. 4195-4199, July 1983\n",
    "Biochemistry\n",
    "In vitro synthesis of bacteriophage 4X174 by purified components\n",
    "(in vitro DNA synthesis/viral component/DNA polymerase Ill holoenzyme/rep protein/deoxyuridinetriphosphatase)\n",
    "AKIRA AOYAMAt, ROBERT K. HAMATAKEt, AND MASAKI HAYASHIt\n",
    "Departments of tBiology and tChemistry, University of California at San Diego, La Jolla, California 92093\n",
    "Communicated by E. Peter Geiduschek, January 21, 1983\n",
    "ABSTRACT An in vitro system capable of synthesizing infectious 4X174 phage particles was reconstituted from purified components. The synthesis required 4X174 supercoiled replicative\n",
    "form DNA, OX174-encoded proteins A, C, J, and prohead, Escherichia coli DNA polymerase III holoenzyme, rep protein, and\n",
    "deoxyuridinetriphosphatase (dUTPase, dUTP nucleotidohydrolase, EC 3.6.1.23) as well as MgCl2, four deoxyribonucleoside triphosphates, and ATP. Phage production was coupled to the synthesis of viral single-stranded DNA. More than 70% of the\n",
    "synthesized particles sedimented at the position of mature phage\n",
    "in a sucrose gradient and associated with the infectivity. The simple requirement of the host proteins suggests that the mechanism\n",
    "of viral strand synthesis in the phage-synthesizing reaction resembles that of viral strand synthesis during the replication of\n",
    "replicative form DNA.\n",
    "During infection of Escherichia coli by the single-stranded (ss)\n",
    "DNA bacteriophage 4X174, the circular ss DNA is replicated\n",
    "via three successive stages of DNA synthesis (for review, see\n",
    "ref. 1). Stage I is the conversion of ss DNA to double-stranded\n",
    "\"\"\""
   ]
  },
  {
   "cell_type": "code",
   "execution_count": 11,
   "metadata": {},
   "outputs": [
    {
     "name": "stdout",
     "output_type": "stream",
     "text": [
      "{\"metadata\": {\"prompt_type\": \"custom\"}, \"template_vars\": [\"year\", \"text\"], \"kwargs\": {}, \"output_parser\": null, \"template_var_mappings\": null, \"function_mappings\": null, \"template\": \"Provide the citation for the following text in MLA Format. The year is {year}\\n\\n    {text}\\n\\n\\n    Citation:\"}\n",
      "DEBUG:openai._base_client:Request options: {'method': 'post', 'url': '/chat/completions', 'files': None, 'json_data': {'messages': [{'role': <MessageRole.USER: 'user'>, 'content': 'Provide the citation for the following text in MLA Format. The year is 2024\\n\\n    \\nProc. Natl. Acad. Sci. USA\\nVol. 80, pp. 4195-4199, July 1983\\nBiochemistry\\nIn vitro synthesis of bacteriophage 4X174 by purified components\\n(in vitro DNA synthesis/viral component/DNA polymerase Ill holoenzyme/rep protein/deoxyuridinetriphosphatase)\\nAKIRA AOYAMAt, ROBERT K. HAMATAKEt, AND MASAKI HAYASHIt\\nDepartments of tBiology and tChemistry, University of California at San Diego, La Jolla, California 92093\\nCommunicated by E. Peter Geiduschek, January 21, 1983\\nABSTRACT An in vitro system capable of synthesizing infectious 4X174 phage particles was reconstituted from purified components. The synthesis required 4X174 supercoiled replicative\\nform DNA, OX174-encoded proteins A, C, J, and prohead, Escherichia coli DNA polymerase III holoenzyme, rep protein, and\\ndeoxyuridinetriphosphatase (dUTPase, dUTP nucleotidohydrolase, EC 3.6.1.23) as well as MgCl2, four deoxyribonucleoside triphosphates, and ATP. Phage production was coupled to the synthesis of viral single-stranded DNA. More than 70% of the\\nsynthesized particles sedimented at the position of mature phage\\nin a sucrose gradient and associated with the infectivity. The simple requirement of the host proteins suggests that the mechanism\\nof viral strand synthesis in the phage-synthesizing reaction resembles that of viral strand synthesis during the replication of\\nreplicative form DNA.\\nDuring infection of Escherichia coli by the single-stranded (ss)\\nDNA bacteriophage 4X174, the circular ss DNA is replicated\\nvia three successive stages of DNA synthesis (for review, see\\nref. 1). Stage I is the conversion of ss DNA to double-stranded\\n\\n\\n\\n    Citation:'}], 'model': 'gpt-3.5-turbo', 'max_tokens': 256, 'stream': False, 'temperature': 0.0}}\n",
      "Request options: {'method': 'post', 'url': '/chat/completions', 'files': None, 'json_data': {'messages': [{'role': <MessageRole.USER: 'user'>, 'content': 'Provide the citation for the following text in MLA Format. The year is 2024\\n\\n    \\nProc. Natl. Acad. Sci. USA\\nVol. 80, pp. 4195-4199, July 1983\\nBiochemistry\\nIn vitro synthesis of bacteriophage 4X174 by purified components\\n(in vitro DNA synthesis/viral component/DNA polymerase Ill holoenzyme/rep protein/deoxyuridinetriphosphatase)\\nAKIRA AOYAMAt, ROBERT K. HAMATAKEt, AND MASAKI HAYASHIt\\nDepartments of tBiology and tChemistry, University of California at San Diego, La Jolla, California 92093\\nCommunicated by E. Peter Geiduschek, January 21, 1983\\nABSTRACT An in vitro system capable of synthesizing infectious 4X174 phage particles was reconstituted from purified components. The synthesis required 4X174 supercoiled replicative\\nform DNA, OX174-encoded proteins A, C, J, and prohead, Escherichia coli DNA polymerase III holoenzyme, rep protein, and\\ndeoxyuridinetriphosphatase (dUTPase, dUTP nucleotidohydrolase, EC 3.6.1.23) as well as MgCl2, four deoxyribonucleoside triphosphates, and ATP. Phage production was coupled to the synthesis of viral single-stranded DNA. More than 70% of the\\nsynthesized particles sedimented at the position of mature phage\\nin a sucrose gradient and associated with the infectivity. The simple requirement of the host proteins suggests that the mechanism\\nof viral strand synthesis in the phage-synthesizing reaction resembles that of viral strand synthesis during the replication of\\nreplicative form DNA.\\nDuring infection of Escherichia coli by the single-stranded (ss)\\nDNA bacteriophage 4X174, the circular ss DNA is replicated\\nvia three successive stages of DNA synthesis (for review, see\\nref. 1). Stage I is the conversion of ss DNA to double-stranded\\n\\n\\n\\n    Citation:'}], 'model': 'gpt-3.5-turbo', 'max_tokens': 256, 'stream': False, 'temperature': 0.0}}\n",
      "DEBUG:httpcore.connection:close.started\n",
      "close.started\n",
      "DEBUG:httpcore.connection:close.complete\n",
      "close.complete\n",
      "DEBUG:httpcore.connection:connect_tcp.started host='api.openai.com' port=443 local_address=None timeout=60.0 socket_options=None\n",
      "connect_tcp.started host='api.openai.com' port=443 local_address=None timeout=60.0 socket_options=None\n",
      "DEBUG:httpcore.connection:connect_tcp.complete return_value=<httpcore._backends.sync.SyncStream object at 0x7fe75172aed0>\n",
      "connect_tcp.complete return_value=<httpcore._backends.sync.SyncStream object at 0x7fe75172aed0>\n",
      "DEBUG:httpcore.connection:start_tls.started ssl_context=<ssl.SSLContext object at 0x7fe75226f800> server_hostname='api.openai.com' timeout=60.0\n",
      "start_tls.started ssl_context=<ssl.SSLContext object at 0x7fe75226f800> server_hostname='api.openai.com' timeout=60.0\n",
      "DEBUG:httpcore.connection:start_tls.complete return_value=<httpcore._backends.sync.SyncStream object at 0x7fe750c3a950>\n",
      "start_tls.complete return_value=<httpcore._backends.sync.SyncStream object at 0x7fe750c3a950>\n",
      "DEBUG:httpcore.http11:send_request_headers.started request=<Request [b'POST']>\n",
      "send_request_headers.started request=<Request [b'POST']>\n",
      "DEBUG:httpcore.http11:send_request_headers.complete\n",
      "send_request_headers.complete\n",
      "DEBUG:httpcore.http11:send_request_body.started request=<Request [b'POST']>\n",
      "send_request_body.started request=<Request [b'POST']>\n",
      "DEBUG:httpcore.http11:send_request_body.complete\n",
      "send_request_body.complete\n",
      "DEBUG:httpcore.http11:receive_response_headers.started request=<Request [b'POST']>\n",
      "receive_response_headers.started request=<Request [b'POST']>\n",
      "DEBUG:httpcore.http11:receive_response_headers.complete return_value=(b'HTTP/1.1', 200, b'OK', [(b'Date', b'Wed, 17 Jan 2024 04:10:19 GMT'), (b'Content-Type', b'application/json'), (b'Transfer-Encoding', b'chunked'), (b'Connection', b'keep-alive'), (b'access-control-allow-origin', b'*'), (b'Cache-Control', b'no-cache, must-revalidate'), (b'openai-model', b'gpt-3.5-turbo-0613'), (b'openai-organization', b'user-vyzy3sybphrf2xalgufcdzur'), (b'openai-processing-ms', b'3026'), (b'openai-version', b'2020-10-01'), (b'strict-transport-security', b'max-age=15724800; includeSubDomains'), (b'x-ratelimit-limit-requests', b'10000'), (b'x-ratelimit-limit-tokens', b'60000'), (b'x-ratelimit-remaining-requests', b'9999'), (b'x-ratelimit-remaining-tokens', b'59317'), (b'x-ratelimit-reset-requests', b'8.64s'), (b'x-ratelimit-reset-tokens', b'683ms'), (b'x-request-id', b'394db754f58c7fca09d863c556cf312c'), (b'CF-Cache-Status', b'DYNAMIC'), (b'Server', b'cloudflare'), (b'CF-RAY', b'846bbf57fff8dfbd-SYD'), (b'Content-Encoding', b'gzip'), (b'alt-svc', b'h3=\":443\"; ma=86400')])\n",
      "receive_response_headers.complete return_value=(b'HTTP/1.1', 200, b'OK', [(b'Date', b'Wed, 17 Jan 2024 04:10:19 GMT'), (b'Content-Type', b'application/json'), (b'Transfer-Encoding', b'chunked'), (b'Connection', b'keep-alive'), (b'access-control-allow-origin', b'*'), (b'Cache-Control', b'no-cache, must-revalidate'), (b'openai-model', b'gpt-3.5-turbo-0613'), (b'openai-organization', b'user-vyzy3sybphrf2xalgufcdzur'), (b'openai-processing-ms', b'3026'), (b'openai-version', b'2020-10-01'), (b'strict-transport-security', b'max-age=15724800; includeSubDomains'), (b'x-ratelimit-limit-requests', b'10000'), (b'x-ratelimit-limit-tokens', b'60000'), (b'x-ratelimit-remaining-requests', b'9999'), (b'x-ratelimit-remaining-tokens', b'59317'), (b'x-ratelimit-reset-requests', b'8.64s'), (b'x-ratelimit-reset-tokens', b'683ms'), (b'x-request-id', b'394db754f58c7fca09d863c556cf312c'), (b'CF-Cache-Status', b'DYNAMIC'), (b'Server', b'cloudflare'), (b'CF-RAY', b'846bbf57fff8dfbd-SYD'), (b'Content-Encoding', b'gzip'), (b'alt-svc', b'h3=\":443\"; ma=86400')])\n",
      "INFO:httpx:HTTP Request: POST https://api.openai.com/v1/chat/completions \"HTTP/1.1 200 OK\"\n",
      "HTTP Request: POST https://api.openai.com/v1/chat/completions \"HTTP/1.1 200 OK\"\n",
      "DEBUG:httpcore.http11:receive_response_body.started request=<Request [b'POST']>\n",
      "receive_response_body.started request=<Request [b'POST']>\n",
      "DEBUG:httpcore.http11:receive_response_body.complete\n",
      "receive_response_body.complete\n",
      "DEBUG:httpcore.http11:response_closed.started\n",
      "response_closed.started\n",
      "DEBUG:httpcore.http11:response_closed.complete\n",
      "response_closed.complete\n",
      "DEBUG:openai._base_client:HTTP Request: POST https://api.openai.com/v1/chat/completions \"200 OK\"\n",
      "HTTP Request: POST https://api.openai.com/v1/chat/completions \"200 OK\"\n"
     ]
    },
    {
     "data": {
      "text/plain": [
       "'Aoyama, Akira, et al. \"In vitro synthesis of bacteriophage 4X174 by purified components.\" Proceedings of the National Academy of Sciences of the United States of America, vol. 80, no. 14, 1983, pp. 4195-4199.'"
      ]
     },
     "execution_count": 11,
     "metadata": {},
     "output_type": "execute_result"
    }
   ],
   "source": [
    "from phages.modules.prompts import citation_prompt\n",
    "from datetime import datetime\n",
    "\n",
    "current_year = datetime.now().year\n",
    "\n",
    "cit = citation_prompt.partial_format(year=current_year)\n",
    "\n",
    "print(citation_prompt.json())\n",
    "\n",
    "response = llm.predict(cit, text = text)\n",
    "\n",
    "response"
   ]
  },
  {
   "cell_type": "code",
   "execution_count": 6,
   "metadata": {},
   "outputs": [
    {
     "data": {
      "text/plain": [
       "['year', 'text']"
      ]
     },
     "execution_count": 6,
     "metadata": {},
     "output_type": "execute_result"
    }
   ],
   "source": [
    "citation_prompt.template_vars"
   ]
  }
 ],
 "metadata": {
  "kernelspec": {
   "display_name": ".venv",
   "language": "python",
   "name": "python3"
  },
  "language_info": {
   "codemirror_mode": {
    "name": "ipython",
    "version": 3
   },
   "file_extension": ".py",
   "mimetype": "text/x-python",
   "name": "python",
   "nbconvert_exporter": "python",
   "pygments_lexer": "ipython3",
   "version": "3.11.4"
  }
 },
 "nbformat": 4,
 "nbformat_minor": 2
}
